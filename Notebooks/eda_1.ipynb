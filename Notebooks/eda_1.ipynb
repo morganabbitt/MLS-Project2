{
 "cells": [
  {
   "cell_type": "code",
   "execution_count": 61,
   "metadata": {},
   "outputs": [],
   "source": [
    "import pandas as pd\n",
    "import numpy as np\n",
    "import matplotlib.pyplot as plt\n",
    "%matplotlib inline\n",
    "plt.style.use('ggplot')\n",
    "pd.set_option('display.max_columns', 500)\n",
    "\n",
    "\n",
    "from src import plotting_player_location_frame"
   ]
  },
  {
   "cell_type": "code",
   "execution_count": 62,
   "metadata": {},
   "outputs": [],
   "source": [
    "df_tracking = pd.read_csv('../data/SecondSpectrum_data.csv', index_col=0)"
   ]
  },
  {
   "cell_type": "code",
   "execution_count": 63,
   "metadata": {},
   "outputs": [],
   "source": [
    "df_players = pd.read_csv('../data/players_csv', index_col=0)\n"
   ]
  },
  {
   "cell_type": "code",
   "execution_count": 64,
   "metadata": {},
   "outputs": [],
   "source": [
    "df_opta = pd.read_csv('../data/opta_data.csv', index_col=0)"
   ]
  },
  {
   "cell_type": "code",
   "execution_count": 65,
   "metadata": {},
   "outputs": [],
   "source": [
    "df_marking = pd.read_csv('../data/marking_data.csv', index_col=0)"
   ]
  },
  {
   "cell_type": "code",
   "execution_count": 66,
   "metadata": {},
   "outputs": [
    {
     "name": "stdout",
     "output_type": "stream",
     "text": [
      "Size of frame by frame data          : 143165 rows and 10 columns\n",
      "Size of Opta data                    : 1849 rows and 25 columns\n",
      "Size of Marking data.                : 2538 rows and 64 columns\n"
     ]
    }
   ],
   "source": [
    "print('Size of frame by frame data          : {} rows and {} columns'.format(df_tracking.shape[0], df_tracking.shape[1]))\n",
    "print('Size of Opta data                    : {} rows and {} columns'.format(df_opta.shape[0], df_opta.shape[1]))\n",
    "print('Size of Marking data.                : {} rows and {} columns'.format(df_marking.shape[0], df_marking.shape[1]))"
   ]
  },
  {
   "cell_type": "markdown",
   "metadata": {},
   "source": [
    "Initial look shows that Marking data and Opta data are not as vast, although they have more features which give more context to the play and the current situation on the field"
   ]
  },
  {
   "cell_type": "markdown",
   "metadata": {},
   "source": [
    "To understand the features of Marking data and Opta data - take a look into the pdfs featured in the repo\n",
    "* `/Intern Project/2020_01_14-2S-MLS - Tracking and Metadata Output Formats_v0.1.pdf` for tracking data\n",
    "* `/Intern Project/MLS - Insight Feed Output Format.pdf` for opta and marking data \n",
    "\n",
    "One thing to note:\n",
    "* Opta data and Marking data but contain objects that are either marking or if they are opta\n",
    "* If an event is opta and marking it is included in both"
   ]
  },
  {
   "cell_type": "markdown",
   "metadata": {},
   "source": [
    "## Focus on Opta Data"
   ]
  },
  {
   "cell_type": "code",
   "execution_count": 67,
   "metadata": {},
   "outputs": [
    {
     "data": {
      "text/plain": [
       "(1849, 25)"
      ]
     },
     "execution_count": 67,
     "metadata": {},
     "output_type": "execute_result"
    }
   ],
   "source": [
    "df_opta.shape"
   ]
  },
  {
   "cell_type": "code",
   "execution_count": 68,
   "metadata": {},
   "outputs": [
    {
     "name": "stdout",
     "output_type": "stream",
     "text": [
      "<class 'pandas.core.frame.DataFrame'>\n",
      "Int64Index: 1849 entries, 0 to 1848\n",
      "Data columns (total 25 columns):\n",
      " #   Column           Non-Null Count  Dtype  \n",
      "---  ------           --------------  -----  \n",
      " 0   id               1849 non-null   int64  \n",
      " 1   eventId          1849 non-null   int64  \n",
      " 2   typeId           1849 non-null   int64  \n",
      " 3   periodId         1849 non-null   int64  \n",
      " 4   timeMin          1849 non-null   int64  \n",
      " 5   timeSec          1849 non-null   int64  \n",
      " 6   contestantId     1849 non-null   object \n",
      " 7   opContestantId   1849 non-null   int64  \n",
      " 8   outcome          1849 non-null   int64  \n",
      " 9   x                1849 non-null   float64\n",
      " 10  y                1849 non-null   float64\n",
      " 11  timeStamp        1849 non-null   object \n",
      " 12  lastModified     1849 non-null   object \n",
      " 13  qualifier        1849 non-null   object \n",
      " 14  game_id          1849 non-null   object \n",
      " 15  period           1849 non-null   int64  \n",
      " 16  alignedFrameIdx  1849 non-null   int64  \n",
      " 17  alignedClock     1849 non-null   float64\n",
      " 18  sequence_idx     1849 non-null   int64  \n",
      " 19  markingId        1279 non-null   object \n",
      " 20  opPlayerId       1830 non-null   float64\n",
      " 21  playerId         1830 non-null   object \n",
      " 22  playerName       1830 non-null   object \n",
      " 23  assist           1 non-null      float64\n",
      " 24  keyPass          11 non-null     float64\n",
      "dtypes: float64(6), int64(11), object(8)\n",
      "memory usage: 375.6+ KB\n"
     ]
    }
   ],
   "source": [
    "df_opta.info()"
   ]
  },
  {
   "cell_type": "code",
   "execution_count": 69,
   "metadata": {},
   "outputs": [],
   "source": [
    "#only missing columns are in keyPass, assist, markingID, and less than 20 missing in opPlayerId, playerId, okayerName"
   ]
  },
  {
   "cell_type": "code",
   "execution_count": 70,
   "metadata": {},
   "outputs": [
    {
     "data": {
      "text/html": [
       "<div>\n",
       "<style scoped>\n",
       "    .dataframe tbody tr th:only-of-type {\n",
       "        vertical-align: middle;\n",
       "    }\n",
       "\n",
       "    .dataframe tbody tr th {\n",
       "        vertical-align: top;\n",
       "    }\n",
       "\n",
       "    .dataframe thead th {\n",
       "        text-align: right;\n",
       "    }\n",
       "</style>\n",
       "<table border=\"1\" class=\"dataframe\">\n",
       "  <thead>\n",
       "    <tr style=\"text-align: right;\">\n",
       "      <th></th>\n",
       "      <th>id</th>\n",
       "      <th>eventId</th>\n",
       "      <th>typeId</th>\n",
       "      <th>periodId</th>\n",
       "      <th>timeMin</th>\n",
       "      <th>timeSec</th>\n",
       "      <th>contestantId</th>\n",
       "      <th>opContestantId</th>\n",
       "      <th>outcome</th>\n",
       "      <th>x</th>\n",
       "      <th>y</th>\n",
       "      <th>timeStamp</th>\n",
       "      <th>lastModified</th>\n",
       "      <th>qualifier</th>\n",
       "      <th>game_id</th>\n",
       "      <th>period</th>\n",
       "      <th>alignedFrameIdx</th>\n",
       "      <th>alignedClock</th>\n",
       "      <th>sequence_idx</th>\n",
       "      <th>markingId</th>\n",
       "      <th>opPlayerId</th>\n",
       "      <th>playerId</th>\n",
       "      <th>playerName</th>\n",
       "      <th>assist</th>\n",
       "      <th>keyPass</th>\n",
       "    </tr>\n",
       "  </thead>\n",
       "  <tbody>\n",
       "    <tr>\n",
       "      <th>0</th>\n",
       "      <td>2190065675</td>\n",
       "      <td>2</td>\n",
       "      <td>32</td>\n",
       "      <td>1</td>\n",
       "      <td>0</td>\n",
       "      <td>0</td>\n",
       "      <td>77o8sorlijzpr0t4s7231zzxp</td>\n",
       "      <td>1581</td>\n",
       "      <td>1</td>\n",
       "      <td>0.0</td>\n",
       "      <td>0.0</td>\n",
       "      <td>2020-03-08T23:11:20.936Z</td>\n",
       "      <td>2020-03-10T14:52:48Z</td>\n",
       "      <td>[{'id': 2361331631, 'qualifierId': 127, 'value...</td>\n",
       "      <td>79421577-d3b0-4ff7-95b8-8dbbaa29d49b</td>\n",
       "      <td>1</td>\n",
       "      <td>0</td>\n",
       "      <td>0.00</td>\n",
       "      <td>0</td>\n",
       "      <td>NaN</td>\n",
       "      <td>NaN</td>\n",
       "      <td>NaN</td>\n",
       "      <td>NaN</td>\n",
       "      <td>NaN</td>\n",
       "      <td>NaN</td>\n",
       "    </tr>\n",
       "    <tr>\n",
       "      <th>1</th>\n",
       "      <td>2190065679</td>\n",
       "      <td>2</td>\n",
       "      <td>32</td>\n",
       "      <td>1</td>\n",
       "      <td>0</td>\n",
       "      <td>0</td>\n",
       "      <td>1oogd0fpwledjm2ycsuv7afze</td>\n",
       "      <td>15154</td>\n",
       "      <td>1</td>\n",
       "      <td>0.0</td>\n",
       "      <td>0.0</td>\n",
       "      <td>2020-03-08T23:11:20.936Z</td>\n",
       "      <td>2020-03-10T14:52:49Z</td>\n",
       "      <td>[{'id': 2361331637, 'qualifierId': 127, 'value...</td>\n",
       "      <td>79421577-d3b0-4ff7-95b8-8dbbaa29d49b</td>\n",
       "      <td>1</td>\n",
       "      <td>0</td>\n",
       "      <td>0.00</td>\n",
       "      <td>0</td>\n",
       "      <td>NaN</td>\n",
       "      <td>NaN</td>\n",
       "      <td>NaN</td>\n",
       "      <td>NaN</td>\n",
       "      <td>NaN</td>\n",
       "      <td>NaN</td>\n",
       "    </tr>\n",
       "    <tr>\n",
       "      <th>2</th>\n",
       "      <td>2190065689</td>\n",
       "      <td>3</td>\n",
       "      <td>1</td>\n",
       "      <td>1</td>\n",
       "      <td>0</td>\n",
       "      <td>1</td>\n",
       "      <td>77o8sorlijzpr0t4s7231zzxp</td>\n",
       "      <td>1581</td>\n",
       "      <td>1</td>\n",
       "      <td>49.6</td>\n",
       "      <td>49.9</td>\n",
       "      <td>2020-03-08T23:11:22.093Z</td>\n",
       "      <td>2020-03-10T15:02:04Z</td>\n",
       "      <td>[{'id': 2361331667, 'qualifierId': 141, 'value...</td>\n",
       "      <td>79421577-d3b0-4ff7-95b8-8dbbaa29d49b</td>\n",
       "      <td>1</td>\n",
       "      <td>1</td>\n",
       "      <td>0.04</td>\n",
       "      <td>0</td>\n",
       "      <td>54eb45e2-1933-45b8-99d2-87afdd7e440d</td>\n",
       "      <td>55817.0</td>\n",
       "      <td>e5d62a8i9q48nxddohhp80r11</td>\n",
       "      <td>D. Váleri</td>\n",
       "      <td>NaN</td>\n",
       "      <td>NaN</td>\n",
       "    </tr>\n",
       "    <tr>\n",
       "      <th>3</th>\n",
       "      <td>2190065697</td>\n",
       "      <td>4</td>\n",
       "      <td>1</td>\n",
       "      <td>1</td>\n",
       "      <td>0</td>\n",
       "      <td>3</td>\n",
       "      <td>77o8sorlijzpr0t4s7231zzxp</td>\n",
       "      <td>1581</td>\n",
       "      <td>1</td>\n",
       "      <td>35.3</td>\n",
       "      <td>41.6</td>\n",
       "      <td>2020-03-08T23:11:24.459Z</td>\n",
       "      <td>2020-03-08T23:11:27Z</td>\n",
       "      <td>[{'id': 2361331721, 'qualifierId': 213, 'value...</td>\n",
       "      <td>79421577-d3b0-4ff7-95b8-8dbbaa29d49b</td>\n",
       "      <td>1</td>\n",
       "      <td>58</td>\n",
       "      <td>2.32</td>\n",
       "      <td>0</td>\n",
       "      <td>68b4e18d-cb3f-437b-a72d-0a51569b1093</td>\n",
       "      <td>96622.0</td>\n",
       "      <td>b4etfnmz4dzoa4r9g0403catx</td>\n",
       "      <td>D. Chará</td>\n",
       "      <td>NaN</td>\n",
       "      <td>NaN</td>\n",
       "    </tr>\n",
       "    <tr>\n",
       "      <th>4</th>\n",
       "      <td>2190065701</td>\n",
       "      <td>5</td>\n",
       "      <td>1</td>\n",
       "      <td>1</td>\n",
       "      <td>0</td>\n",
       "      <td>6</td>\n",
       "      <td>77o8sorlijzpr0t4s7231zzxp</td>\n",
       "      <td>1581</td>\n",
       "      <td>1</td>\n",
       "      <td>34.8</td>\n",
       "      <td>11.0</td>\n",
       "      <td>2020-03-08T23:11:27.180Z</td>\n",
       "      <td>2020-03-08T23:11:30Z</td>\n",
       "      <td>[{'id': 2361331741, 'qualifierId': 213, 'value...</td>\n",
       "      <td>79421577-d3b0-4ff7-95b8-8dbbaa29d49b</td>\n",
       "      <td>1</td>\n",
       "      <td>110</td>\n",
       "      <td>4.40</td>\n",
       "      <td>0</td>\n",
       "      <td>8dff78d4-53ce-4378-a674-94724c6f8d6c</td>\n",
       "      <td>131840.0</td>\n",
       "      <td>7yuie6z5q0g0mans9pb5mdxhx</td>\n",
       "      <td>C. Duvall</td>\n",
       "      <td>NaN</td>\n",
       "      <td>NaN</td>\n",
       "    </tr>\n",
       "  </tbody>\n",
       "</table>\n",
       "</div>"
      ],
      "text/plain": [
       "           id  eventId  typeId  periodId  timeMin  timeSec  \\\n",
       "0  2190065675        2      32         1        0        0   \n",
       "1  2190065679        2      32         1        0        0   \n",
       "2  2190065689        3       1         1        0        1   \n",
       "3  2190065697        4       1         1        0        3   \n",
       "4  2190065701        5       1         1        0        6   \n",
       "\n",
       "                contestantId  opContestantId  outcome     x     y  \\\n",
       "0  77o8sorlijzpr0t4s7231zzxp            1581        1   0.0   0.0   \n",
       "1  1oogd0fpwledjm2ycsuv7afze           15154        1   0.0   0.0   \n",
       "2  77o8sorlijzpr0t4s7231zzxp            1581        1  49.6  49.9   \n",
       "3  77o8sorlijzpr0t4s7231zzxp            1581        1  35.3  41.6   \n",
       "4  77o8sorlijzpr0t4s7231zzxp            1581        1  34.8  11.0   \n",
       "\n",
       "                  timeStamp          lastModified  \\\n",
       "0  2020-03-08T23:11:20.936Z  2020-03-10T14:52:48Z   \n",
       "1  2020-03-08T23:11:20.936Z  2020-03-10T14:52:49Z   \n",
       "2  2020-03-08T23:11:22.093Z  2020-03-10T15:02:04Z   \n",
       "3  2020-03-08T23:11:24.459Z  2020-03-08T23:11:27Z   \n",
       "4  2020-03-08T23:11:27.180Z  2020-03-08T23:11:30Z   \n",
       "\n",
       "                                           qualifier  \\\n",
       "0  [{'id': 2361331631, 'qualifierId': 127, 'value...   \n",
       "1  [{'id': 2361331637, 'qualifierId': 127, 'value...   \n",
       "2  [{'id': 2361331667, 'qualifierId': 141, 'value...   \n",
       "3  [{'id': 2361331721, 'qualifierId': 213, 'value...   \n",
       "4  [{'id': 2361331741, 'qualifierId': 213, 'value...   \n",
       "\n",
       "                                game_id  period  alignedFrameIdx  \\\n",
       "0  79421577-d3b0-4ff7-95b8-8dbbaa29d49b       1                0   \n",
       "1  79421577-d3b0-4ff7-95b8-8dbbaa29d49b       1                0   \n",
       "2  79421577-d3b0-4ff7-95b8-8dbbaa29d49b       1                1   \n",
       "3  79421577-d3b0-4ff7-95b8-8dbbaa29d49b       1               58   \n",
       "4  79421577-d3b0-4ff7-95b8-8dbbaa29d49b       1              110   \n",
       "\n",
       "   alignedClock  sequence_idx                             markingId  \\\n",
       "0          0.00             0                                   NaN   \n",
       "1          0.00             0                                   NaN   \n",
       "2          0.04             0  54eb45e2-1933-45b8-99d2-87afdd7e440d   \n",
       "3          2.32             0  68b4e18d-cb3f-437b-a72d-0a51569b1093   \n",
       "4          4.40             0  8dff78d4-53ce-4378-a674-94724c6f8d6c   \n",
       "\n",
       "   opPlayerId                   playerId playerName  assist  keyPass  \n",
       "0         NaN                        NaN        NaN     NaN      NaN  \n",
       "1         NaN                        NaN        NaN     NaN      NaN  \n",
       "2     55817.0  e5d62a8i9q48nxddohhp80r11  D. Váleri     NaN      NaN  \n",
       "3     96622.0  b4etfnmz4dzoa4r9g0403catx   D. Chará     NaN      NaN  \n",
       "4    131840.0  7yuie6z5q0g0mans9pb5mdxhx  C. Duvall     NaN      NaN  "
      ]
     },
     "execution_count": 70,
     "metadata": {},
     "output_type": "execute_result"
    }
   ],
   "source": [
    "df_opta.head()"
   ]
  },
  {
   "cell_type": "code",
   "execution_count": 71,
   "metadata": {},
   "outputs": [],
   "source": [
    "shot_optaid = df_marking[~df_marking['shooterId'].isna()]['optaId']"
   ]
  },
  {
   "cell_type": "code",
   "execution_count": 72,
   "metadata": {},
   "outputs": [
    {
     "data": {
      "text/plain": [
       "3524"
      ]
     },
     "execution_count": 72,
     "metadata": {},
     "output_type": "execute_result"
    }
   ],
   "source": [
    "df_opta[df_opta['id'].isin(shot_optaid)]['alignedFrameIdx'][48]"
   ]
  },
  {
   "cell_type": "code",
   "execution_count": 73,
   "metadata": {},
   "outputs": [
    {
     "ename": "TypeError",
     "evalue": "string indices must be integers",
     "output_type": "error",
     "traceback": [
      "\u001b[0;31m---------------------------------------------------------------------------\u001b[0m",
      "\u001b[0;31mTypeError\u001b[0m                                 Traceback (most recent call last)",
      "\u001b[0;32m<ipython-input-73-e6e140e8e381>\u001b[0m in \u001b[0;36m<module>\u001b[0;34m\u001b[0m\n\u001b[0;32m----> 1\u001b[0;31m \u001b[0mplotting_player_location_frame\u001b[0m\u001b[0;34m(\u001b[0m\u001b[0;36m3524\u001b[0m\u001b[0;34m)\u001b[0m\u001b[0;34m\u001b[0m\u001b[0;34m\u001b[0m\u001b[0m\n\u001b[0m",
      "\u001b[0;32m~/Desktop/MLS-Project2/Notebooks/src.py\u001b[0m in \u001b[0;36mplotting_player_location_frame\u001b[0;34m(frame_number)\u001b[0m\n\u001b[1;32m     16\u001b[0m     \u001b[0marray2\u001b[0m \u001b[0;34m=\u001b[0m \u001b[0mnp\u001b[0m\u001b[0;34m.\u001b[0m\u001b[0mempty\u001b[0m\u001b[0;34m(\u001b[0m\u001b[0;34m(\u001b[0m\u001b[0;36m11\u001b[0m\u001b[0;34m,\u001b[0m \u001b[0;36m3\u001b[0m\u001b[0;34m)\u001b[0m\u001b[0;34m)\u001b[0m\u001b[0;34m\u001b[0m\u001b[0;34m\u001b[0m\u001b[0m\n\u001b[1;32m     17\u001b[0m \u001b[0;34m\u001b[0m\u001b[0m\n\u001b[0;32m---> 18\u001b[0;31m \u001b[0;34m\u001b[0m\u001b[0m\n\u001b[0m\u001b[1;32m     19\u001b[0m     \u001b[0;32mfor\u001b[0m \u001b[0mi\u001b[0m\u001b[0;34m,\u001b[0m \u001b[0;34m(\u001b[0m\u001b[0mplayer_home\u001b[0m\u001b[0;34m,\u001b[0m \u001b[0mplayer_away\u001b[0m\u001b[0;34m)\u001b[0m \u001b[0;32min\u001b[0m \u001b[0menumerate\u001b[0m\u001b[0;34m(\u001b[0m\u001b[0mzip\u001b[0m\u001b[0;34m(\u001b[0m\u001b[0mlst_home_start\u001b[0m\u001b[0;34m,\u001b[0m \u001b[0mlst_away_start\u001b[0m\u001b[0;34m)\u001b[0m\u001b[0;34m)\u001b[0m\u001b[0;34m:\u001b[0m\u001b[0;34m\u001b[0m\u001b[0;34m\u001b[0m\u001b[0m\n\u001b[1;32m     20\u001b[0m         \u001b[0marray\u001b[0m\u001b[0;34m[\u001b[0m\u001b[0mi\u001b[0m\u001b[0;34m]\u001b[0m\u001b[0;34m[\u001b[0m\u001b[0;36m0\u001b[0m\u001b[0;34m]\u001b[0m \u001b[0;34m=\u001b[0m \u001b[0mplayer_home\u001b[0m\u001b[0;34m[\u001b[0m\u001b[0;34m'xyz'\u001b[0m\u001b[0;34m]\u001b[0m\u001b[0;34m[\u001b[0m\u001b[0;36m0\u001b[0m\u001b[0;34m]\u001b[0m\u001b[0;34m\u001b[0m\u001b[0;34m\u001b[0m\u001b[0m\n",
      "\u001b[0;31mTypeError\u001b[0m: string indices must be integers"
     ]
    }
   ],
   "source": [
    "plotting_player_location_frame(3524)"
   ]
  },
  {
   "cell_type": "code",
   "execution_count": null,
   "metadata": {},
   "outputs": [],
   "source": []
  }
 ],
 "metadata": {
  "kernelspec": {
   "display_name": "Python 3",
   "language": "python",
   "name": "python3"
  },
  "language_info": {
   "codemirror_mode": {
    "name": "ipython",
    "version": 3
   },
   "file_extension": ".py",
   "mimetype": "text/x-python",
   "name": "python",
   "nbconvert_exporter": "python",
   "pygments_lexer": "ipython3",
   "version": "3.7.6"
  }
 },
 "nbformat": 4,
 "nbformat_minor": 4
}
